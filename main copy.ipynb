{
 "cells": [
  {
   "cell_type": "code",
   "execution_count": 4,
   "metadata": {},
   "outputs": [
    {
     "name": "stdout",
     "output_type": "stream",
     "text": [
      "Requirement already satisfied: kagglehub in ./.venv/lib/python3.12/site-packages (0.3.4)\n",
      "Requirement already satisfied: packaging in ./.venv/lib/python3.12/site-packages (from kagglehub) (24.2)\n",
      "Requirement already satisfied: requests in ./.venv/lib/python3.12/site-packages (from kagglehub) (2.32.3)\n",
      "Requirement already satisfied: tqdm in ./.venv/lib/python3.12/site-packages (from kagglehub) (4.67.0)\n",
      "Requirement already satisfied: charset-normalizer<4,>=2 in ./.venv/lib/python3.12/site-packages (from requests->kagglehub) (3.4.0)\n",
      "Requirement already satisfied: idna<4,>=2.5 in ./.venv/lib/python3.12/site-packages (from requests->kagglehub) (3.10)\n",
      "Requirement already satisfied: urllib3<3,>=1.21.1 in ./.venv/lib/python3.12/site-packages (from requests->kagglehub) (2.2.3)\n",
      "Requirement already satisfied: certifi>=2017.4.17 in ./.venv/lib/python3.12/site-packages (from requests->kagglehub) (2024.8.30)\n",
      "Note: you may need to restart the kernel to use updated packages.\n",
      "Collecting pandas\n",
      "  Using cached pandas-2.2.3-cp312-cp312-macosx_11_0_arm64.whl.metadata (89 kB)\n",
      "Collecting numpy>=1.26.0 (from pandas)\n",
      "  Downloading numpy-2.1.3-cp312-cp312-macosx_14_0_arm64.whl.metadata (62 kB)\n",
      "Requirement already satisfied: python-dateutil>=2.8.2 in ./.venv/lib/python3.12/site-packages (from pandas) (2.9.0.post0)\n",
      "Collecting pytz>=2020.1 (from pandas)\n",
      "  Using cached pytz-2024.2-py2.py3-none-any.whl.metadata (22 kB)\n",
      "Collecting tzdata>=2022.7 (from pandas)\n",
      "  Using cached tzdata-2024.2-py2.py3-none-any.whl.metadata (1.4 kB)\n",
      "Requirement already satisfied: six>=1.5 in ./.venv/lib/python3.12/site-packages (from python-dateutil>=2.8.2->pandas) (1.16.0)\n",
      "Using cached pandas-2.2.3-cp312-cp312-macosx_11_0_arm64.whl (11.4 MB)\n",
      "Downloading numpy-2.1.3-cp312-cp312-macosx_14_0_arm64.whl (5.1 MB)\n",
      "\u001b[2K   \u001b[90m━━━━━━━━━━━━━━━━━━━━━━━━━━━━━━━━━━━━━━━━\u001b[0m \u001b[32m5.1/5.1 MB\u001b[0m \u001b[31m476.1 kB/s\u001b[0m eta \u001b[36m0:00:00\u001b[0m00:01\u001b[0m00:01\u001b[0m\n",
      "\u001b[?25hUsing cached pytz-2024.2-py2.py3-none-any.whl (508 kB)\n",
      "Using cached tzdata-2024.2-py2.py3-none-any.whl (346 kB)\n",
      "Installing collected packages: pytz, tzdata, numpy, pandas\n",
      "Successfully installed numpy-2.1.3 pandas-2.2.3 pytz-2024.2 tzdata-2024.2\n",
      "Note: you may need to restart the kernel to use updated packages.\n"
     ]
    }
   ],
   "source": [
    "%pip install kagglehub\n",
    "%pip install pandas"
   ]
  },
  {
   "cell_type": "code",
   "execution_count": 6,
   "metadata": {},
   "outputs": [
    {
     "name": "stdout",
     "output_type": "stream",
     "text": [
      "SPOTIFYYYYYY : /Users/jbb/.cache/kagglehub/datasets/prathamsaraf1389/spotify-global-top-50-daily-update/versions/315\n",
      "           track_name track_add_date track_add_time  multiple_artists_bool  \\\n",
      "0             Flowers     2023-03-31       10:02:16                  False   \n",
      "1           Kill Bill     2023-03-31       10:02:16                  False   \n",
      "2                 TQG     2023-03-31       10:02:16                   True   \n",
      "3                BESO     2023-03-31       10:02:16                   True   \n",
      "4  Boy's a liar Pt. 2     2023-03-31       10:02:16                   True   \n",
      "\n",
      "                   name_of_artists               album_name  \\\n",
      "0                  ['Miley Cyrus']  Endless Summer Vacation   \n",
      "1                          ['SZA']                      SOS   \n",
      "2           ['KAROL G', 'Shakira']       MAÑANA SERÁ BONITO   \n",
      "3    ['ROSALÍA', 'Rauw Alejandro']                       RR   \n",
      "4  ['PinkPantheress', 'Ice Spice']       Boy's a liar Pt. 2   \n",
      "\n",
      "  album_release_date album_release_date_precision  number_of_tracks_in_album  \\\n",
      "0         2023-03-10                          day                         13   \n",
      "1         2022-12-08                          day                         23   \n",
      "2         2023-02-24                          day                         17   \n",
      "3         2023-03-24                          day                          3   \n",
      "4         2023-02-03                          day                          2   \n",
      "\n",
      "   position_in_playlist  track_duration_ms  track_popularity  track_explicit  \\\n",
      "0                     1             200600                87           False   \n",
      "1                     2             153946                94           False   \n",
      "2                     3             197933                97            True   \n",
      "3                     4             194543                87           False   \n",
      "4                     5             131013                97           False   \n",
      "\n",
      "                                    images_path data_collection_date  \n",
      "0              ./images/flowers_miley_cyrus.jpg           2023-03-31  \n",
      "1                    ./images/kill_bill_sza.jpg           2023-03-31  \n",
      "2                      ./images/tqg_karol_g.jpg           2023-03-31  \n",
      "3                      ./images/beso_rosala.jpg           2023-03-31  \n",
      "4  ./images/boys_a_liar_pt_2_pinkpantheress.jpg           2023-03-31  \n"
     ]
    }
   ],
   "source": [
    "import kagglehub\n",
    "\n",
    "# Téléchargement du dataset avec kagglehub\n",
    "path = kagglehub.dataset_download(\"prathamsaraf1389/spotify-global-top-50-daily-update\")\n",
    "\n",
    "print(\"SPOTIFYYYYYY :\", path)\n",
    "\n",
    "# Remplace \"playlist.csv\" par le nom exact trouvé\n",
    "file_path = os.path.join(path, \"playlist.csv\")\n",
    "spotify_data = pd.read_csv(file_path)\n",
    "\n",
    "# Affiche un aperçu des données\n",
    "print(spotify_data.head())\n"
   ]
  },
  {
   "cell_type": "markdown",
   "metadata": {},
   "source": [
    "# Introduction\n",
    "\n",
    "Fondée en 2006 par Daniel Ek & Martin Lorentzon en Suède, Spotify est devenue l'une des plateformes de streaming musical les plus populaires au monde, révolutionnant la manière d'écouter la musique en offrant un accès instantané à un vaste cataloque de morceaux, albums et podcast.\n",
    "\n",
    "La plateforme propose une multitude de playlists dont la célèbre \"Top 50 Global\", une sélection des morceaux les plus écoutés dans le monde entier, cette playlist, étant mise à jour quotidiennement, reflète les goûts musicaux globaux en temps réel en se basant sur le nombre de streams, dont artistes, producteurs et labels, voient une vitrine essentielle pour mesure le succès de leurs titre et toucher une audience mondiale."
   ]
  },
  {
   "cell_type": "markdown",
   "metadata": {},
   "source": [
    "# Présentation de la data\n",
    "\n",
    "Nous avons les lignes suivantes dans notre database\n",
    "\n",
    "track_name: Le nom du morceau\n",
    "\n",
    "track_add_date: La date de l'ajout du morceau dans la playlist\n",
    "\n",
    "track_add_time: L'heure de l'ajout du morceau dans la playlist\n",
    "\n",
    "multiple_artists_bool: Un booleen qui nous renseigne si le morceau est mono ou multi artiste\n",
    "\n",
    "name_of_artists: Nom des artistes\n",
    "\n",
    "album_name: Nom de l'album\n",
    "\n",
    "album_release_date: Date de sortie de l'album\n",
    "\n",
    "album_release_date_precision: Précision de la date de sortie de l'album\n",
    "\n",
    "number_of_tracks_in_album: Nombre de morceaux dans l'album\n",
    "\n",
    "position_in_playlist: Position du morceau de la playlist\n",
    "\n",
    "track_duration_ms: Durée du morceau en milisecondes\n",
    "\n",
    "track_popularity: Popularité du morceau \n",
    "\n",
    "track_explicit: Un booleen qui nous donne si le morceau est explicite ou non\n",
    "\n",
    "images_path: Lien pour image du morceau\n"
   ]
  },
  {
   "cell_type": "markdown",
   "metadata": {},
   "source": [
    "# Premières observations"
   ]
  },
  {
   "cell_type": "code",
   "execution_count": 11,
   "metadata": {},
   "outputs": [
    {
     "data": {
      "text/html": [
       "<div>\n",
       "<style scoped>\n",
       "    .dataframe tbody tr th:only-of-type {\n",
       "        vertical-align: middle;\n",
       "    }\n",
       "\n",
       "    .dataframe tbody tr th {\n",
       "        vertical-align: top;\n",
       "    }\n",
       "\n",
       "    .dataframe thead th {\n",
       "        text-align: right;\n",
       "    }\n",
       "</style>\n",
       "<table border=\"1\" class=\"dataframe\">\n",
       "  <thead>\n",
       "    <tr style=\"text-align: right;\">\n",
       "      <th></th>\n",
       "      <th>number_of_tracks_in_album</th>\n",
       "      <th>position_in_playlist</th>\n",
       "      <th>track_duration_ms</th>\n",
       "      <th>track_popularity</th>\n",
       "    </tr>\n",
       "  </thead>\n",
       "  <tbody>\n",
       "    <tr>\n",
       "      <th>count</th>\n",
       "      <td>15550.000000</td>\n",
       "      <td>15550.000000</td>\n",
       "      <td>15550.000000</td>\n",
       "      <td>15550.000000</td>\n",
       "    </tr>\n",
       "    <tr>\n",
       "      <th>mean</th>\n",
       "      <td>10.519807</td>\n",
       "      <td>25.500000</td>\n",
       "      <td>196956.244437</td>\n",
       "      <td>89.535691</td>\n",
       "    </tr>\n",
       "    <tr>\n",
       "      <th>std</th>\n",
       "      <td>9.213601</td>\n",
       "      <td>14.431334</td>\n",
       "      <td>38362.990747</td>\n",
       "      <td>11.933126</td>\n",
       "    </tr>\n",
       "    <tr>\n",
       "      <th>min</th>\n",
       "      <td>1.000000</td>\n",
       "      <td>1.000000</td>\n",
       "      <td>36226.000000</td>\n",
       "      <td>0.000000</td>\n",
       "    </tr>\n",
       "    <tr>\n",
       "      <th>25%</th>\n",
       "      <td>1.000000</td>\n",
       "      <td>13.000000</td>\n",
       "      <td>172797.000000</td>\n",
       "      <td>88.000000</td>\n",
       "    </tr>\n",
       "    <tr>\n",
       "      <th>50%</th>\n",
       "      <td>12.000000</td>\n",
       "      <td>25.500000</td>\n",
       "      <td>195986.000000</td>\n",
       "      <td>92.000000</td>\n",
       "    </tr>\n",
       "    <tr>\n",
       "      <th>75%</th>\n",
       "      <td>17.000000</td>\n",
       "      <td>38.000000</td>\n",
       "      <td>222461.000000</td>\n",
       "      <td>95.000000</td>\n",
       "    </tr>\n",
       "    <tr>\n",
       "      <th>max</th>\n",
       "      <td>119.000000</td>\n",
       "      <td>50.000000</td>\n",
       "      <td>405906.000000</td>\n",
       "      <td>100.000000</td>\n",
       "    </tr>\n",
       "  </tbody>\n",
       "</table>\n",
       "</div>"
      ],
      "text/plain": [
       "       number_of_tracks_in_album  position_in_playlist  track_duration_ms  \\\n",
       "count               15550.000000          15550.000000       15550.000000   \n",
       "mean                   10.519807             25.500000      196956.244437   \n",
       "std                     9.213601             14.431334       38362.990747   \n",
       "min                     1.000000              1.000000       36226.000000   \n",
       "25%                     1.000000             13.000000      172797.000000   \n",
       "50%                    12.000000             25.500000      195986.000000   \n",
       "75%                    17.000000             38.000000      222461.000000   \n",
       "max                   119.000000             50.000000      405906.000000   \n",
       "\n",
       "       track_popularity  \n",
       "count      15550.000000  \n",
       "mean          89.535691  \n",
       "std           11.933126  \n",
       "min            0.000000  \n",
       "25%           88.000000  \n",
       "50%           92.000000  \n",
       "75%           95.000000  \n",
       "max          100.000000  "
      ]
     },
     "execution_count": 11,
     "metadata": {},
     "output_type": "execute_result"
    }
   ],
   "source": [
    "spotify_data.describe()"
   ]
  },
  {
   "cell_type": "markdown",
   "metadata": {},
   "source": [
    "Nous avons 15550 morceaux dans ce dataset, cela correspond à 15550/50 = 311 semaines de Globat Top 50\n",
    "\n",
    "On va pouvoir observer quels sont les morceaux les plus récurrents, le nombre d'artistes différents et la distribution de la durée des morceaux."
   ]
  },
  {
   "cell_type": "code",
   "execution_count": null,
   "metadata": {},
   "outputs": [],
   "source": []
  }
 ],
 "metadata": {
  "kernelspec": {
   "display_name": ".venv",
   "language": "python",
   "name": "python3"
  },
  "language_info": {
   "codemirror_mode": {
    "name": "ipython",
    "version": 3
   },
   "file_extension": ".py",
   "mimetype": "text/x-python",
   "name": "python",
   "nbconvert_exporter": "python",
   "pygments_lexer": "ipython3",
   "version": "3.12.5"
  }
 },
 "nbformat": 4,
 "nbformat_minor": 2
}
